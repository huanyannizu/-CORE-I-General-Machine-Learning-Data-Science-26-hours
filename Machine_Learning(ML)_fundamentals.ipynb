{
 "cells": [
  {
   "attachments": {},
   "cell_type": "markdown",
   "metadata": {},
   "source": [
    "### Machine Learning (ML) fundamentals\n",
    "\n",
    "#### Exercise 1 - Basic Python programming\n",
    "##### 1.1 Basic data types"
   ]
  },
  {
   "cell_type": "code",
   "execution_count": 23,
   "metadata": {},
   "outputs": [
    {
     "name": "stdout",
     "output_type": "stream",
     "text": [
      "<class 'int'>\n",
      "3\n",
      "4\n",
      "2\n",
      "6\n",
      "9\n",
      "4\n",
      "8\n",
      "<class 'float'>\n",
      "2.5 3.5 5.0 6.25\n"
     ]
    }
   ],
   "source": [
    "#Python has a number of basic types including integers, floats, booleans, and strings\n",
    "x = 3\n",
    "print(type(x)) # Prints \"<class 'int'>\"\n",
    "print(x)       # Prints \"3\"\n",
    "print(x + 1)   # Addition; prints \"4\"\n",
    "print(x - 1)   # Subtraction; prints \"2\"\n",
    "print(x * 2)   # Multiplication; prints \"6\"\n",
    "print(x ** 2)  # Exponentiation; prints \"9\"\n",
    "x += 1\n",
    "print(x)  # Prints \"4\"\n",
    "x *= 2\n",
    "print(x)  # Prints \"8\"\n",
    "y = 2.5\n",
    "print(type(y)) # Prints \"<class 'float'>\"\n",
    "print(y, y + 1, y * 2, y ** 2) # Prints \"2.5 3.5 5.0 6.25\""
   ]
  },
  {
   "cell_type": "code",
   "execution_count": 24,
   "metadata": {},
   "outputs": [
    {
     "name": "stdout",
     "output_type": "stream",
     "text": [
      "<class 'bool'>\n",
      "False\n",
      "True\n",
      "False\n",
      "True\n"
     ]
    }
   ],
   "source": [
    "#Python implements all of the usual operators for Boolean logic\n",
    "t = True\n",
    "f = False\n",
    "print(type(t)) # Prints \"<class 'bool'>\"\n",
    "print(t and f) # Logical AND; prints \"False\"\n",
    "print(t or f)  # Logical OR; prints \"True\"\n",
    "print(not t)   # Logical NOT; prints \"False\"\n",
    "print(t != f)  # Logical XOR; prints \"True\""
   ]
  },
  {
   "cell_type": "code",
   "execution_count": 25,
   "metadata": {},
   "outputs": [
    {
     "name": "stdout",
     "output_type": "stream",
     "text": [
      "hello\n",
      "5\n",
      "hello world\n",
      "hello world 12\n"
     ]
    }
   ],
   "source": [
    "#Python supports strings\n",
    "hello = 'hello'    # String literals can use single quotes\n",
    "world = \"world\"    # or double quotes; it does not matter.\n",
    "print(hello)       # Prints \"hello\"\n",
    "print(len(hello))  # String length; prints \"5\"\n",
    "hw = hello + ' ' + world  # String concatenation\n",
    "print(hw)  # prints \"hello world\"\n",
    "hw12 = '%s %s %d' % (hello, world, 12)  # sprintf style string formatting\n",
    "print(hw12)  # prints \"hello world 12\""
   ]
  },
  {
   "cell_type": "code",
   "execution_count": 26,
   "metadata": {},
   "outputs": [
    {
     "name": "stdout",
     "output_type": "stream",
     "text": [
      "[3, 1, 2] 2\n",
      "2\n",
      "[3, 1, 'foo']\n",
      "[3, 1, 'foo', 'bar']\n",
      "bar [3, 1, 'foo']\n"
     ]
    }
   ],
   "source": [
    "#Python Lists\n",
    "#A list is the Python equivalent of an array, but is resizeable and can contain elements of different types:\n",
    "xs = [3, 1, 2]    # Create a list\n",
    "print(xs, xs[2])  # Prints \"[3, 1, 2] 2\"\n",
    "print(xs[-1])     # Negative indices count from the end of the list; prints \"2\"\n",
    "xs[2] = 'foo'     # Lists can contain elements of different types\n",
    "print(xs)         # Prints \"[3, 1, 'foo']\"\n",
    "xs.append('bar')  # Add a new element to the end of the list\n",
    "print(xs)         # Prints \"[3, 1, 'foo', 'bar']\"\n",
    "x = xs.pop()      # Remove and return the last element of the list\n",
    "print(x, xs)      # Prints \"bar [3, 1, 'foo']\""
   ]
  },
  {
   "cell_type": "code",
   "execution_count": 27,
   "metadata": {},
   "outputs": [
    {
     "name": "stdout",
     "output_type": "stream",
     "text": [
      "cute\n",
      "True\n",
      "wet\n",
      "N/A\n",
      "wet\n",
      "N/A\n"
     ]
    }
   ],
   "source": [
    "#Python Dictionaries\n",
    "#A dictionary stores (key, value) pairs, similar to a Map in Java.\n",
    "\n",
    "d = {'cat': 'cute', 'dog': 'furry'}  # Create a new dictionary with some data\n",
    "print(d['cat'])       # Get an entry from a dictionary; prints \"cute\"\n",
    "print('cat' in d)     # Check if a dictionary has a given key; prints \"True\"\n",
    "d['fish'] = 'wet'     # Set an entry in a dictionary\n",
    "print(d['fish'])      # Prints \"wet\"\n",
    "# print(d['monkey'])  # KeyError: 'monkey' not a key of d\n",
    "print(d.get('monkey', 'N/A'))  # Get an element with a default; prints \"N/A\"\n",
    "print(d.get('fish', 'N/A'))    # Get an element with a default; prints \"wet\"\n",
    "del d['fish']         # Remove an element from a dictionary\n",
    "print(d.get('fish', 'N/A')) # \"fish\" is no longer a key; prints \"N/A\""
   ]
  },
  {
   "cell_type": "code",
   "execution_count": 28,
   "metadata": {},
   "outputs": [
    {
     "name": "stdout",
     "output_type": "stream",
     "text": [
      "True\n",
      "False\n",
      "True\n",
      "3\n",
      "3\n",
      "2\n"
     ]
    }
   ],
   "source": [
    "#Python Sets\n",
    "#A set is an unordered collection of distinct elements.\n",
    "\n",
    "animals = {'cat', 'dog'}\n",
    "print('cat' in animals)   # Check if an element is in a set; prints \"True\"\n",
    "print('fish' in animals)  # prints \"False\"\n",
    "animals.add('fish')       # Add an element to a set\n",
    "print('fish' in animals)  # Prints \"True\"\n",
    "print(len(animals))       # Number of elements in a set; prints \"3\"\n",
    "animals.add('cat')        # Adding an element that is already in the set does nothing\n",
    "print(len(animals))       # Prints \"3\"\n",
    "animals.remove('cat')     # Remove an element from a set\n",
    "print(len(animals))       # Prints \"2\""
   ]
  },
  {
   "cell_type": "code",
   "execution_count": 29,
   "metadata": {},
   "outputs": [
    {
     "name": "stdout",
     "output_type": "stream",
     "text": [
      "<class 'tuple'>\n",
      "5\n",
      "1\n"
     ]
    }
   ],
   "source": [
    "#Python Tuples\n",
    "#A tuple is an (immutable) ordered list of values. A tuple is in many ways similar to a list; one of the most important differences is that tuples can be used as keys in dictionaries and as elements of sets, while lists cannot.\n",
    "\n",
    "d = {(x, x + 1): x for x in range(10)}  # Create a dictionary with tuple keys\n",
    "t = (5, 6)        # Create a tuple\n",
    "print(type(t))    # Prints \"<class 'tuple'>\"\n",
    "print(d[t])       # Prints \"5\"\n",
    "print(d[(1, 2)])  # Prints \"1\""
   ]
  },
  {
   "cell_type": "code",
   "execution_count": 30,
   "metadata": {},
   "outputs": [
    {
     "name": "stdout",
     "output_type": "stream",
     "text": [
      "negative\n",
      "zero\n",
      "positive\n"
     ]
    }
   ],
   "source": [
    "#Python Functions\n",
    "#Python functions are defined using the def keyword.\n",
    "\n",
    "def sign(x):\n",
    "    if x > 0:\n",
    "        return 'positive'\n",
    "    elif x < 0:\n",
    "        return 'negative'\n",
    "    else:\n",
    "        return 'zero'\n",
    "\n",
    "for x in [-1, 0, 1]:\n",
    "    print(sign(x))\n",
    "# Prints \"negative\", \"zero\", \"positive\""
   ]
  },
  {
   "cell_type": "code",
   "execution_count": 31,
   "metadata": {},
   "outputs": [
    {
     "name": "stdout",
     "output_type": "stream",
     "text": [
      "Hello, Fred\n",
      "HELLO, FRED!\n"
     ]
    }
   ],
   "source": [
    "#Python Classes\n",
    "#The syntax for defining classes in Python is straightforward:\n",
    "\n",
    "class Greeter(object):\n",
    "\n",
    "    # Constructor\n",
    "    def __init__(self, name):\n",
    "        self.name = name  # Create an instance variable\n",
    "\n",
    "    # Instance method\n",
    "    def greet(self, loud=False):\n",
    "        if loud:\n",
    "            print('HELLO, %s!' % self.name.upper())\n",
    "        else:\n",
    "            print('Hello, %s' % self.name)\n",
    "\n",
    "g = Greeter('Fred')  # Construct an instance of the Greeter class\n",
    "g.greet()            # Call an instance method; prints \"Hello, Fred\"\n",
    "g.greet(loud=True)   # Call an instance method; prints \"HELLO, FRED!\""
   ]
  },
  {
   "cell_type": "code",
   "execution_count": 37,
   "metadata": {},
   "outputs": [
    {
     "name": "stdout",
     "output_type": "stream",
     "text": [
      "HiZack!\n",
      "HiJay!\n",
      "HiRichard!\n",
      "We’re stuck in a loop...\n"
     ]
    }
   ],
   "source": [
    "#Python Loops\n",
    "for name in ['Zack', 'Jay', 'Richard']:\n",
    "     print('Hi' + name + '!')\n",
    "#prints:\n",
    "#  Hi Zack!\n",
    "#  Hi Jay!\n",
    "#  Hi Richard!\n",
    "    \n",
    "while True:\n",
    "     print('We’re stuck in a loop...')\n",
    "     break # Break out of the while loop\n",
    "#prints:\n",
    "# We’re stuck in a loop..."
   ]
  },
  {
   "cell_type": "code",
   "execution_count": 34,
   "metadata": {},
   "outputs": [],
   "source": [
    "#Importing Python modules\n",
    "#Install packages in terminal using pip install [package_name]\n",
    "\n",
    "# Import ‘os’ and ‘time’ modules\n",
    "import os, time\n",
    "# Import under an alias\n",
    "import numpy as np\n",
    "np.dot(x, y) # Access components with pkg.fn\n",
    "# Import specific submodules/functions\n",
    "from numpy import linalg as la, dot as matrix_multiply"
   ]
  },
  {
   "cell_type": "markdown",
   "metadata": {},
   "source": [
    "#### 1.2 Numpy library"
   ]
  },
  {
   "cell_type": "code",
   "execution_count": 32,
   "metadata": {},
   "outputs": [
    {
     "name": "stdout",
     "output_type": "stream",
     "text": [
      "<class 'numpy.ndarray'>\n",
      "(3,)\n",
      "1 2 3\n",
      "[5 2 3]\n",
      "(2, 3)\n",
      "1 2 4\n"
     ]
    }
   ],
   "source": [
    "#Arrays\n",
    "#A numpy array is a grid of values, all of the same type, and is indexed by a tuple of nonnegative integers. \n",
    "#The number of dimensions is the rank of the array; the shape of an array is a tuple of integers giving the size \n",
    "#of the array along each dimension. We can initialize numpy arrays from nested Python lists, and access elements \n",
    "#using square brackets:\n",
    "\n",
    "# import the numpy library\n",
    "import numpy as np # define shorthand \"np\" for the numpy library\n",
    "\n",
    "a = np.array([1, 2, 3])   # Create a rank 1 array\n",
    "print(type(a))            # Prints \"<class 'numpy.ndarray'>\"\n",
    "print(a.shape)            # Prints \"(3,)\"\n",
    "print(a[0], a[1], a[2])   # Prints \"1 2 3\"\n",
    "a[0] = 5                  # Change an element of the array\n",
    "print(a)                  # Prints \"[5, 2, 3]\"\n",
    "\n",
    "b = np.array([[1,2,3],[4,5,6]])    # Create a rank 2 array\n",
    "print(b.shape)                     # Prints \"(2, 3)\"\n",
    "print(b[0, 0], b[0, 1], b[1, 0])   # Prints \"1 2 4\""
   ]
  },
  {
   "cell_type": "code",
   "execution_count": 33,
   "metadata": {},
   "outputs": [
    {
     "name": "stdout",
     "output_type": "stream",
     "text": [
      "2\n",
      "77\n"
     ]
    }
   ],
   "source": [
    "# Array indexing\n",
    "#Numpy offers several ways to index into arrays. Slicing: Similar to Python lists, numpy arrays can be sliced. \n",
    "#Since arrays may be multidimensional, you must specify a slice for each dimension of the array:\n",
    "\n",
    "# Create the following rank 2 array with shape (3, 4)\n",
    "# [[ 1  2  3  4]\n",
    "#  [ 5  6  7  8]\n",
    "#  [ 9 10 11 12]]\n",
    "a = np.array([[1,2,3,4], [5,6,7,8], [9,10,11,12]])\n",
    "\n",
    "# Use slicing to pull out the subarray consisting of the first 2 rows\n",
    "# and columns 1 and 2; b is the following array of shape (2, 2):\n",
    "# [[2 3]\n",
    "#  [6 7]]\n",
    "b = a[:2, 1:3]\n",
    "\n",
    "# A slice of an array is a view into the same data, so modifying it\n",
    "# will modify the original array.\n",
    "print(a[0, 1])   # Prints \"2\"\n",
    "b[0, 0] = 77     # b[0, 0] is the same piece of data as a[0, 1]\n",
    "print(a[0, 1])   # Prints \"77\""
   ]
  },
  {
   "cell_type": "code",
   "execution_count": 38,
   "metadata": {},
   "outputs": [
    {
     "name": "stdout",
     "output_type": "stream",
     "text": [
      "[[False False]\n",
      " [ True  True]\n",
      " [ True  True]]\n",
      "[3 4 5 6]\n",
      "[3 4 5 6]\n"
     ]
    }
   ],
   "source": [
    "#Boolean array indexing: \n",
    "#Boolean array indexing lets you pick out arbitrary elements of an array. \n",
    "#Frequently this type of indexing is used to select the elements of an array that satisfy some condition. \n",
    "\n",
    "a = np.array([[1,2], [3, 4], [5, 6]])\n",
    "\n",
    "bool_idx = (a > 2)   # Find the elements of a that are bigger than 2;\n",
    "                     # this returns a numpy array of Booleans of the same\n",
    "                     # shape as a, where each slot of bool_idx tells\n",
    "                     # whether that element of a is > 2.\n",
    "\n",
    "print(bool_idx)      # Prints \"[[False False]\n",
    "                     #          [ True  True]\n",
    "                     #          [ True  True]]\"\n",
    "\n",
    "# We use boolean array indexing to construct a rank 1 array\n",
    "# consisting of the elements of a corresponding to the True values\n",
    "# of bool_idx\n",
    "print(a[bool_idx])  # Prints \"[3 4 5 6]\"\n",
    "\n",
    "# We can do all of the above in a single concise statement:\n",
    "print(a[a > 2])     # Prints \"[3 4 5 6]\""
   ]
  },
  {
   "cell_type": "code",
   "execution_count": 40,
   "metadata": {
    "scrolled": true
   },
   "outputs": [
    {
     "name": "stdout",
     "output_type": "stream",
     "text": [
      "[[ 6.  8.]\n",
      " [10. 12.]]\n",
      "[[ 6.  8.]\n",
      " [10. 12.]]\n",
      "[[-4. -4.]\n",
      " [-4. -4.]]\n",
      "[[-4. -4.]\n",
      " [-4. -4.]]\n",
      "[[ 5. 12.]\n",
      " [21. 32.]]\n",
      "[[ 5. 12.]\n",
      " [21. 32.]]\n",
      "[[0.2        0.33333333]\n",
      " [0.42857143 0.5       ]]\n",
      "[[0.2        0.33333333]\n",
      " [0.42857143 0.5       ]]\n",
      "[[1.         1.41421356]\n",
      " [1.73205081 2.        ]]\n",
      "[[19 22]\n",
      " [43 50]]\n",
      "[[19 22]\n",
      " [43 50]]\n",
      "10\n",
      "[4 6]\n",
      "[3 7]\n"
     ]
    }
   ],
   "source": [
    "#Array math\n",
    "#Basic mathematical functions operate elementwise on arrays, and are available both as operator overloads \n",
    "#and as functions in the numpy module:\n",
    "\n",
    "x = np.array([[1,2],[3,4]], dtype=np.float64)\n",
    "y = np.array([[5,6],[7,8]], dtype=np.float64)\n",
    "\n",
    "# Elementwise sum; both produce the array\n",
    "# [[ 6.0  8.0]\n",
    "#  [10.0 12.0]]\n",
    "print(x + y)\n",
    "print(np.add(x, y))\n",
    "\n",
    "# Elementwise difference; both produce the array\n",
    "# [[-4.0 -4.0]\n",
    "#  [-4.0 -4.0]]\n",
    "print(x - y)\n",
    "print(np.subtract(x, y))\n",
    "\n",
    "# Elementwise product; both produce the array\n",
    "# [[ 5.0 12.0]\n",
    "#  [21.0 32.0]]\n",
    "print(x * y)\n",
    "print(np.multiply(x, y))\n",
    "\n",
    "# Elementwise division; both produce the array\n",
    "# [[ 0.2         0.33333333]\n",
    "#  [ 0.42857143  0.5       ]]\n",
    "print(x / y)\n",
    "print(np.divide(x, y))\n",
    "\n",
    "# Elementwise square root; produces the array\n",
    "# [[ 1.          1.41421356]\n",
    "#  [ 1.73205081  2.        ]]\n",
    "print(np.sqrt(x))\n",
    "\n",
    "#Also, Numpy provides many useful functions for performing computations on arrays\n",
    "x = np.array([[1,2],[3,4]])\n",
    "y = np.array([[5,6],[7,8]])\n",
    "# Matrix / matrix product; both produce the rank 2 array\n",
    "# [[19 22]\n",
    "#  [43 50]]\n",
    "print(x.dot(y))\n",
    "print(np.dot(x, y))\n",
    "\n",
    "print(np.sum(x))  # Compute sum of all elements; prints \"10\"\n",
    "print(np.sum(x, axis=0))  # Compute sum of each column; prints \"[4 6]\"\n",
    "print(np.sum(x, axis=1))  # Compute sum of each row; prints \"[3 7]\""
   ]
  },
  {
   "cell_type": "markdown",
   "metadata": {},
   "source": [
    "#### 1.3 Pandas library\n",
    "Pandas has two important data structures: Series and DataFrame."
   ]
  },
  {
   "cell_type": "code",
   "execution_count": 42,
   "metadata": {},
   "outputs": [
    {
     "name": "stdout",
     "output_type": "stream",
     "text": [
      "<class 'pandas.core.series.Series'>\n",
      "0    11\n",
      "1    28\n",
      "2    72\n",
      "3     3\n",
      "4     5\n",
      "5     8\n",
      "dtype: int64\n"
     ]
    }
   ],
   "source": [
    "#Series\n",
    "#A Series is a one-dimensional labelled array-like object. It is capable of holding any data type, \n",
    "#e.g. integers, floats, strings, Python objects, and so on. It can be seen as a data structure with two arrays: \n",
    "#one functioning as the index, i.e. the labels, and the other one contains the actual data.\n",
    "#We define a simple Series object in the following example by instantiating a Pandas Series object with a list. \n",
    "#We will later see that we can use other data objects for example Numpy arrays and dictionaries as well to instantiate\n",
    "#a Series object.\n",
    "\n",
    "#import the pandas library\n",
    "import pandas as pd # define shorthand \"pd\" for the pandas library\n",
    "S = pd.Series([11, 28, 72, 3, 5, 8])\n",
    "print(type(S))\n",
    "print(S)"
   ]
  },
  {
   "cell_type": "code",
   "execution_count": 44,
   "metadata": {},
   "outputs": [
    {
     "name": "stdout",
     "output_type": "stream",
     "text": [
      "<class 'pandas.core.frame.DataFrame'>\n",
      "     A          B    C  D      E    F\n",
      "0  1.0 2013-01-02  1.0  3   test  foo\n",
      "1  1.0 2013-01-02  1.0  3  train  foo\n",
      "2  1.0 2013-01-02  1.0  3   test  foo\n",
      "3  1.0 2013-01-02  1.0  3  train  foo\n"
     ]
    }
   ],
   "source": [
    "#Dataframe\n",
    "#Creating a DataFrame by passing a dict of objects that can be converted to series-like.\n",
    "\n",
    "df = pd.DataFrame({'A': 1.,\n",
    "                   'B': pd.Timestamp('20130102'),\n",
    "                   'C': pd.Series(1, index=list(range(4)), dtype='float32'),\n",
    "                   'D': np.array([3] * 4, dtype='int32'),\n",
    "                   'E': pd.Categorical([\"test\", \"train\", \"test\", \"train\"]),\n",
    "                   'F': 'foo'})\n",
    "\n",
    "print(type(df))\n",
    "print(df)"
   ]
  },
  {
   "cell_type": "code",
   "execution_count": 50,
   "metadata": {},
   "outputs": [
    {
     "name": "stdout",
     "output_type": "stream",
     "text": [
      "number of rows:  768\n",
      "number of columns:  5\n",
      "take a look at the first 5 rows of the dataset:\n",
      "   PregnantTimes  PlasmaGlucoseConcentration   BMI  age  label\n",
      "0              6                         148  33.6   50      1\n",
      "1              1                          85  26.6   31      0\n",
      "2              8                         183  23.3   32      1\n",
      "3              1                          89  28.1   21      0\n",
      "4              0                         137  43.1   33      1\n"
     ]
    }
   ],
   "source": [
    "#Loading a .csv file into a pandas DataFrame\n",
    "df = pd.read_csv('pima_indians_diabetes.csv')\n",
    "print('number of rows: ',df.shape[0])\n",
    "print('number of columns: ',df.shape[1])\n",
    "\n",
    "print('take a look at the first 5 rows of the dataset:')\n",
    "print(df.head())"
   ]
  },
  {
   "cell_type": "code",
   "execution_count": 52,
   "metadata": {},
   "outputs": [
    {
     "name": "stdout",
     "output_type": "stream",
     "text": [
      "     PregnantTimes  age\n",
      "0                6   50\n",
      "1                1   31\n",
      "2                8   32\n",
      "3                1   21\n",
      "4                0   33\n",
      "5                5   30\n",
      "6                3   26\n",
      "7               10   29\n",
      "8                2   53\n",
      "9                8   54\n",
      "10               4   30\n",
      "11              10   34\n",
      "12              10   57\n",
      "13               1   59\n",
      "14               5   51\n",
      "15               7   32\n",
      "16               0   31\n",
      "17               7   31\n",
      "18               1   33\n",
      "19               1   32\n",
      "20               3   27\n",
      "21               8   50\n",
      "22               7   41\n",
      "23               9   29\n",
      "24              11   51\n",
      "25              10   41\n",
      "26               7   43\n",
      "27               1   22\n",
      "28              13   57\n",
      "29               5   38\n",
      "..             ...  ...\n",
      "738              2   21\n",
      "739              1   42\n",
      "740             11   48\n",
      "741              3   26\n",
      "742              1   22\n",
      "743              9   45\n",
      "744             13   39\n",
      "745             12   46\n",
      "746              1   27\n",
      "747              1   32\n",
      "748              3   36\n",
      "749              6   50\n",
      "750              4   22\n",
      "751              1   28\n",
      "752              3   25\n",
      "753              0   26\n",
      "754              8   45\n",
      "755              1   37\n",
      "756              7   39\n",
      "757              0   52\n",
      "758              1   26\n",
      "759              6   66\n",
      "760              2   22\n",
      "761              9   43\n",
      "762              9   33\n",
      "763             10   63\n",
      "764              2   27\n",
      "765              5   30\n",
      "766              1   47\n",
      "767              1   23\n",
      "\n",
      "[768 rows x 2 columns]\n",
      "   PregnantTimes  PlasmaGlucoseConcentration   BMI  age  label\n",
      "3              1                          89  28.1   21      0\n",
      "4              0                         137  43.1   33      1\n",
      "   PregnantTimes  age\n",
      "3              1   21\n",
      "4              0   33\n"
     ]
    }
   ],
   "source": [
    "#Selecting data from your dataframe\n",
    "\n",
    "# Select specific columns of your dataframe\n",
    "print(df[['PregnantTimes', 'age']])\n",
    "\n",
    "# Select specific rows of your dataframe\n",
    "print(df[3:5])\n",
    "\n",
    "# Select specific rows and columns of your dataframe\n",
    "print(df[['PregnantTimes', 'age']][3:5])"
   ]
  },
  {
   "cell_type": "markdown",
   "metadata": {},
   "source": [
    "#### 1.3 Scikit-Learn library\n",
    "Scikit-learn is a free software machine learning library for the Python programming language. It features various classification, regression and clustering algorithms including support vector machines, random forests, gradient boosting, k-means, etc."
   ]
  },
  {
   "cell_type": "code",
   "execution_count": 61,
   "metadata": {},
   "outputs": [
    {
     "name": "stdout",
     "output_type": "stream",
     "text": [
      "total number of examples:  768\n",
      "number of training examples:  576\n",
      "number of testing examples:  192\n"
     ]
    }
   ],
   "source": [
    "# To use specific algorihms in sklean, we need to import them first\n",
    "\n",
    "# Import 'train_test_split' from sklearn library\n",
    "from sklearn.model_selection import train_test_split\n",
    "\n",
    "# Split the 'pima_indians_diabetes' data into training and test sets\n",
    "df = pd.read_csv('pima_indians_diabetes.csv')\n",
    "# Use 75% of the examples as training set, and 25% of the examples as testing set\n",
    "X_train, X_test, y_train, y_test = train_test_split(df[['PregnantTimes','PlasmaGlucoseConcentration','BMI','age']], df['label'], test_size=0.25, random_state=42)\n",
    "print('total number of examples: ',df.shape[0])\n",
    "print('number of training examples: ',X_train.shape[0])\n",
    "print('number of testing examples: ',X_test.shape[0])\n",
    "\n",
    "# Other example algorithms in sklearn\n",
    "# from sklearn import svm\n",
    "# from sklearn.linear_model import LogisticRegression\n",
    "# from sklearn.cluster import KMeans\n",
    "# from sklearn import mixture\n"
   ]
  },
  {
   "cell_type": "markdown",
   "metadata": {},
   "source": [
    "#### Exercise 2 -  Simple statistics for a synthetic information data\n",
    "We would use a synthetic banknote dataset.The Banknote Dataset involves predicting whether a given banknote \n",
    "is authentic given a number of measures taken from a photograph.The dataset \n",
    "contains 1000 observations(rows) with 4 input variables (first 4 columns) and 1 labelling variable (the last column).\n",
    "\n",
    "The variable names are as follows:\n",
    "\n",
    "- Variance of Wavelet Transformed image (continuous).\n",
    "- Skewness of Wavelet Transformed image (continuous).\n",
    "- Kurtosis of Wavelet Transformed image (continuous).\n",
    "- Entropy of image (continuous).\n",
    "- Class (0 for authentic, 1 for inauthentic)."
   ]
  },
  {
   "cell_type": "code",
   "execution_count": 80,
   "metadata": {},
   "outputs": [
    {
     "name": "stdout",
     "output_type": "stream",
     "text": [
      "number of training examples:  800\n",
      "number of testing examples:  200\n",
      "\n",
      "     Variance  Skewness  Kurtosis  Entropy\n",
      "29    -1.8387  -6.30100  5.650600  0.19567\n",
      "535    4.0520  -0.16555  0.453830  0.51248\n",
      "695    3.3583  10.35670 -3.730100 -3.69910\n",
      "557    5.2032   3.51160 -1.253800  1.01290\n",
      "836    1.9358   8.16540 -0.023425 -2.25860\n",
      "\n",
      "         Variance    Skewness    Kurtosis     Entropy\n",
      "count  800.000000  800.000000  800.000000  800.000000\n",
      "mean     0.518894    1.805699    1.409766   -1.117205\n",
      "std      2.816793    5.756121    4.296244    2.051922\n",
      "min     -7.042100  -13.773100   -5.261300   -7.871900\n",
      "25%     -1.736125   -1.732500   -1.551425   -2.208525\n",
      "50%      0.544635    2.102350    0.587075   -0.553025\n",
      "75%      2.872400    6.418350    3.351875    0.401920\n",
      "max      6.824800   12.730200   17.927400    2.449500\n"
     ]
    }
   ],
   "source": [
    "import pandas as pd\n",
    "from sklearn.model_selection import train_test_split\n",
    "\n",
    "data = pd.read_csv('bank_notes.csv')\n",
    "X_train, X_test, Y_train, Y_test = train_test_split(data[['Variance','Skewness','Kurtosis','Entropy']], data['Class'], test_size=0.2, random_state=42)\n",
    "print('number of training examples: ',X_train.shape[0])  \n",
    "print('number of testing examples: ',X_test.shape[0]) \n",
    "print(\"\") #start a new line\n",
    "print(X_train.head()) #have a look at the first 5 rows of the training set\n",
    "print(\"\")\n",
    "print(X_train.describe()) #compute descriptive statistics of the training"
   ]
  },
  {
   "attachments": {},
   "cell_type": "markdown",
   "metadata": {},
   "source": [
    "#### Exercise 3 -  Dimension reduction with PCA"
   ]
  },
  {
   "cell_type": "code",
   "execution_count": 83,
   "metadata": {},
   "outputs": [
    {
     "name": "stdout",
     "output_type": "stream",
     "text": [
      "   principal component 1  principal component 2\n",
      "0               9.420002               0.391987\n",
      "1               0.771647              -4.368497\n",
      "2             -10.533586              -0.354298\n",
      "3              -3.233406              -5.038820\n",
      "4              -6.287752               0.625352\n"
     ]
    }
   ],
   "source": [
    "from sklearn import decomposition # import sklearn and matplotlib libraries\n",
    "\n",
    "pca = decomposition.PCA(n_components=2) #create a PCA model with 2 components\n",
    "principalComponents = pca.fit_transform(X_train) #fit PCA model. The resulting variable principalComponents contains the principal components.\n",
    "principalDf = pd.DataFrame(data = principalComponents, columns = ['principal component 1', 'principal component 2']) #converting the resulting variable into a dataframe\n",
    "print(principalDf.head())"
   ]
  },
  {
   "cell_type": "code",
   "execution_count": 84,
   "metadata": {},
   "outputs": [
    {
     "data": {
      "image/png": "[encoded data removed]",
      "text/plain": [
       "<matplotlib.figure.Figure at 0x114b7e7b8>"
      ]
     },
     "metadata": {},
     "output_type": "display_data"
    }
   ],
   "source": [
    "# visualize the training dataset after decomposition\n",
    "\n",
    "import matplotlib.pyplot as plt # import matplotlib library for plotting\n",
    "principalDf['Class'] = list(Y_train) # add label column to the principal dataframe for plotting purposes\n",
    "targets = [0, 1]; colors = ['r', 'y']\n",
    "for target, color in zip(targets,colors):\n",
    "    indicesToKeep = principalDf['Class'] == target\n",
    "    plt.scatter(principalDf.loc[indicesToKeep, 'principal component 1']\n",
    "               , principalDf.loc[indicesToKeep, 'principal component 2']\n",
    "               , c = color\n",
    "               , alpha=0.5)\n",
    "plt.legend(targets)\n",
    "plt.grid()\n",
    "plt.xlabel('Principal Component 1')\n",
    "plt.ylabel('Principal Component 2')\n",
    "plt.title('2 component PCA')\n",
    "plt.show()"
   ]
  },
  {
   "attachments": {},
   "cell_type": "markdown",
   "metadata": {},
   "source": [
    "### Exercise 4 - logistic regression to predict authentic (1)/inauthentic (0) on the banknote dataset"
   ]
  },
  {
   "cell_type": "code",
   "execution_count": 89,
   "metadata": {},
   "outputs": [
    {
     "name": "stdout",
     "output_type": "stream",
     "text": [
      "training accuracy: 0.99\n",
      "testing accuracy: 0.985\n"
     ]
    }
   ],
   "source": [
    "# import LogisticRegression from sklearn library\n",
    "from sklearn.linear_model import LogisticRegression\n",
    "logreg = LogisticRegression(solver='liblinear') #create logistic regression model with default parameter values\n",
    "logreg.fit(X_train, Y_train) #fit the created model to training dataset\n",
    "print('training accuracy:',logreg.score(X_train, Y_train)) #calculate training accuracy\n",
    "print('testing accuracy:',logreg.score(X_test, Y_test))#calculate testing accuracy"
   ]
  },
  {
   "cell_type": "code",
   "execution_count": null,
   "metadata": {},
   "outputs": [],
   "source": []
  }
 ],
 "metadata": {
  "kernelspec": {
   "display_name": "Python 3",
   "language": "python",
   "name": "python3"
  },
  "language_info": {
   "codemirror_mode": {
    "name": "ipython",
    "version": 3
   },
   "file_extension": ".py",
   "mimetype": "text/x-python",
   "name": "python",
   "nbconvert_exporter": "python",
   "pygments_lexer": "ipython3",
   "version": "3.6.2"
  }
 },
 "nbformat": 4,
 "nbformat_minor": 2
}
